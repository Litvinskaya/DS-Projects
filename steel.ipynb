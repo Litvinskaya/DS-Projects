{
 "cells": [
  {
   "cell_type": "markdown",
   "metadata": {},
   "source": [
    "# Предсказание температуры плавления стали\n",
    "### Цель проекта\n",
    "Компании необходимо уменьшить потребление электроэнергии на этапе обработки стали.\n",
    "### План Работы\n",
    "1)<a href='#1'>Cоздаем признаки для обучения\\\n",
    "2)<a href='#2'>Посмотрим на данные \\\n",
    "3)<a href='#3'>Обучим модели\\\n",
    "4)<a href='#4'>Выводы"
   ]
  },
  {
   "cell_type": "code",
   "execution_count": 1,
   "metadata": {},
   "outputs": [],
   "source": [
    "import pandas as pd\n",
    "from datetime import datetime\n",
    "import pandas as pd\n",
    "import numpy as np\n",
    "from sklearn.model_selection import train_test_split\n",
    "from sklearn.tree import DecisionTreeClassifier\n",
    "import warnings\n",
    "from tqdm.notebook import tqdm\n",
    "from sklearn.dummy import DummyRegressor\n",
    "from sklearn.linear_model import LogisticRegression\n",
    "from catboost import CatBoostClassifier\n",
    "from catboost import CatBoostRegressor\n",
    "from lightgbm import LGBMRegressor\n",
    "from lightgbm import LGBMClassifier\n",
    "from catboost import CatBoost\n",
    "from sklearn.linear_model import LinearRegression\n",
    "warnings.filterwarnings('ignore')\n",
    "from sklearn.metrics import mean_absolute_error\n",
    "mae=mean_absolute_error\n",
    "from sklearn.ensemble import RandomForestClassifier\n",
    "from sklearn.tree import DecisionTreeRegressor\n",
    "from sklearn.ensemble import RandomForestRegressor\n",
    "from sklearn.dummy import DummyRegressor\n",
    "import seaborn as sns\n",
    "import numpy\n",
    "import xgboost\n",
    "from sklearn.preprocessing import StandardScaler, RobustScaler\n",
    "from sklearn.model_selection import train_test_split, cross_val_score, cross_validate\n",
    "from functools import reduce\n",
    "\n",
    "from sklearn.compose import ColumnTransformer\n",
    "from sklearn.pipeline import Pipeline"
   ]
  },
  {
   "cell_type": "code",
   "execution_count": 2,
   "metadata": {},
   "outputs": [
    {
     "name": "stdout",
     "output_type": "stream",
     "text": [
      "Note: you may need to restart the kernel to use updated packages.\n"
     ]
    },
    {
     "name": "stderr",
     "output_type": "stream",
     "text": [
      "'C:\\Users\\litvinskaya.m\\Anaconda3\\New' is not recognized as an internal or external command,\n",
      "operable program or batch file.\n"
     ]
    }
   ],
   "source": [
    "pip inatall xgboost"
   ]
  },
  {
   "cell_type": "code",
   "execution_count": 3,
   "metadata": {},
   "outputs": [],
   "source": [
    "try:\n",
    "    arc=pd.read_csv('/datasets/final_steel/data_arc.csv')\n",
    "    bulk=pd.read_csv('/datasets/final_steel/data_bulk.csv')\n",
    "    bulk_time=pd.read_csv('/datasets/final_steel/data_bulk_time.csv')\n",
    "    gas=pd.read_csv('/datasets/final_steel/data_gas.csv')\n",
    "    temp=pd.read_csv('/datasets/final_steel/data_temp.csv')\n",
    "    wire=pd.read_csv('/datasets/final_steel/data_wire.csv')\n",
    "    wire_time=pd.read_csv('/datasets/final_steel/data_wire_time.csv')\n",
    "    \n",
    "except:\n",
    "    arc=pd.read_csv(r'C:\\Users\\litvinskaya.m\\Desktop\\Материалы курса Яндекс.Практикум\\ноутбуки\\final project\\final_steel\\data_arc.csv')\n",
    "    bulk=pd.read_csv(r'C:\\Users\\litvinskaya.m\\Desktop\\Материалы курса Яндекс.Практикум\\ноутбуки\\final project\\final_steel\\data_bulk.csv')\n",
    "    bulk_time=pd.read_csv(r'C:\\Users\\litvinskaya.m\\Desktop\\Материалы курса Яндекс.Практикум\\ноутбуки\\final project\\final_steel\\data_bulk_time.csv')\n",
    "    gas=pd.read_csv(r'C:\\Users\\litvinskaya.m\\Desktop\\Материалы курса Яндекс.Практикум\\ноутбуки\\final project\\final_steel\\data_gas.csv')\n",
    "    temp=pd.read_csv(r'C:\\Users\\litvinskaya.m\\Desktop\\Материалы курса Яндекс.Практикум\\ноутбуки\\final project\\final_steel\\data_temp.csv')\n",
    "    wire=pd.read_csv(r'C:\\Users\\litvinskaya.m\\Desktop\\Материалы курса Яндекс.Практикум\\ноутбуки\\final project\\final_steel\\data_wire.csv')\n",
    "    wire_time=pd.read_csv(r'C:\\Users\\litvinskaya.m\\Desktop\\Материалы курса Яндекс.Практикум\\ноутбуки\\final project\\final_steel\\data_wire_time.csv')"
   ]
  },
  {
   "cell_type": "code",
   "execution_count": 4,
   "metadata": {},
   "outputs": [
    {
     "name": "stdout",
     "output_type": "stream",
     "text": [
      "<class 'pandas.core.frame.DataFrame'>\n",
      "RangeIndex: 14876 entries, 0 to 14875\n",
      "Data columns (total 5 columns):\n",
      " #   Column                Non-Null Count  Dtype  \n",
      "---  ------                --------------  -----  \n",
      " 0   key                   14876 non-null  int64  \n",
      " 1   Начало нагрева дугой  14876 non-null  object \n",
      " 2   Конец нагрева дугой   14876 non-null  object \n",
      " 3   Активная мощность     14876 non-null  float64\n",
      " 4   Реактивная мощность   14876 non-null  float64\n",
      "dtypes: float64(2), int64(1), object(2)\n",
      "memory usage: 581.2+ KB\n",
      "None\n",
      "       key Начало нагрева дугой  Конец нагрева дугой  Активная мощность  \\\n",
      "3914   845  2019-06-03 16:51:12  2019-06-03 16:53:26           0.475568   \n",
      "5148  1118  2019-06-13 01:23:23  2019-06-13 01:24:26           0.252264   \n",
      "9094  1970  2019-07-18 14:11:56  2019-07-18 14:14:01           0.455543   \n",
      "\n",
      "      Реактивная мощность  \n",
      "3914             0.303480  \n",
      "5148             0.181161  \n",
      "9094             0.378295  \n",
      "\n",
      "\n",
      "<class 'pandas.core.frame.DataFrame'>\n",
      "RangeIndex: 3129 entries, 0 to 3128\n",
      "Data columns (total 16 columns):\n",
      " #   Column   Non-Null Count  Dtype  \n",
      "---  ------   --------------  -----  \n",
      " 0   key      3129 non-null   int64  \n",
      " 1   Bulk 1   252 non-null    float64\n",
      " 2   Bulk 2   22 non-null     float64\n",
      " 3   Bulk 3   1298 non-null   float64\n",
      " 4   Bulk 4   1014 non-null   float64\n",
      " 5   Bulk 5   77 non-null     float64\n",
      " 6   Bulk 6   576 non-null    float64\n",
      " 7   Bulk 7   25 non-null     float64\n",
      " 8   Bulk 8   1 non-null      float64\n",
      " 9   Bulk 9   19 non-null     float64\n",
      " 10  Bulk 10  176 non-null    float64\n",
      " 11  Bulk 11  177 non-null    float64\n",
      " 12  Bulk 12  2450 non-null   float64\n",
      " 13  Bulk 13  18 non-null     float64\n",
      " 14  Bulk 14  2806 non-null   float64\n",
      " 15  Bulk 15  2248 non-null   float64\n",
      "dtypes: float64(15), int64(1)\n",
      "memory usage: 391.2 KB\n",
      "None\n",
      "       key  Bulk 1  Bulk 2  Bulk 3  Bulk 4  Bulk 5  Bulk 6  Bulk 7  Bulk 8  \\\n",
      "2435  2527     NaN     NaN    68.0     NaN     NaN     NaN     NaN     NaN   \n",
      "1150  1198     NaN     NaN     NaN    84.0     NaN     NaN     NaN     NaN   \n",
      "2601  2700     NaN     NaN    28.0     NaN     NaN     NaN     NaN     NaN   \n",
      "\n",
      "      Bulk 9  Bulk 10  Bulk 11  Bulk 12  Bulk 13  Bulk 14  Bulk 15  \n",
      "2435     NaN      NaN      NaN    242.0      NaN    118.0    230.0  \n",
      "1150     NaN      NaN      NaN    205.0      NaN    136.0    102.0  \n",
      "2601     NaN      NaN      NaN    158.0      NaN    198.0    206.0  \n",
      "\n",
      "\n",
      "<class 'pandas.core.frame.DataFrame'>\n",
      "RangeIndex: 3129 entries, 0 to 3128\n",
      "Data columns (total 16 columns):\n",
      " #   Column   Non-Null Count  Dtype \n",
      "---  ------   --------------  ----- \n",
      " 0   key      3129 non-null   int64 \n",
      " 1   Bulk 1   252 non-null    object\n",
      " 2   Bulk 2   22 non-null     object\n",
      " 3   Bulk 3   1298 non-null   object\n",
      " 4   Bulk 4   1014 non-null   object\n",
      " 5   Bulk 5   77 non-null     object\n",
      " 6   Bulk 6   576 non-null    object\n",
      " 7   Bulk 7   25 non-null     object\n",
      " 8   Bulk 8   1 non-null      object\n",
      " 9   Bulk 9   19 non-null     object\n",
      " 10  Bulk 10  176 non-null    object\n",
      " 11  Bulk 11  177 non-null    object\n",
      " 12  Bulk 12  2450 non-null   object\n",
      " 13  Bulk 13  18 non-null     object\n",
      " 14  Bulk 14  2806 non-null   object\n",
      " 15  Bulk 15  2248 non-null   object\n",
      "dtypes: int64(1), object(15)\n",
      "memory usage: 391.2+ KB\n",
      "None\n",
      "       key Bulk 1 Bulk 2 Bulk 3               Bulk 4 Bulk 5 Bulk 6 Bulk 7  \\\n",
      "898    937    NaN    NaN    NaN  2019-06-07 02:27:15    NaN    NaN    NaN   \n",
      "1720  1780    NaN    NaN    NaN                  NaN    NaN    NaN    NaN   \n",
      "2490  2582    NaN    NaN    NaN  2019-08-09 04:58:06    NaN    NaN    NaN   \n",
      "\n",
      "     Bulk 8 Bulk 9 Bulk 10 Bulk 11              Bulk 12 Bulk 13  \\\n",
      "898     NaN    NaN     NaN     NaN  2019-06-07 02:14:08     NaN   \n",
      "1720    NaN    NaN     NaN     NaN  2019-07-05 14:02:11     NaN   \n",
      "2490    NaN    NaN     NaN     NaN                  NaN     NaN   \n",
      "\n",
      "                  Bulk 14              Bulk 15  \n",
      "898   2019-06-07 02:14:08  2019-06-07 02:14:08  \n",
      "1720  2019-07-05 14:02:11  2019-07-05 14:02:11  \n",
      "2490                  NaN                  NaN  \n",
      "\n",
      "\n",
      "<class 'pandas.core.frame.DataFrame'>\n",
      "RangeIndex: 3239 entries, 0 to 3238\n",
      "Data columns (total 2 columns):\n",
      " #   Column  Non-Null Count  Dtype  \n",
      "---  ------  --------------  -----  \n",
      " 0   key     3239 non-null   int64  \n",
      " 1   Газ 1   3239 non-null   float64\n",
      "dtypes: float64(1), int64(1)\n",
      "memory usage: 50.7 KB\n",
      "None\n",
      "       key      Газ 1\n",
      "65      66   7.715921\n",
      "2426  2429   8.513860\n",
      "2012  2015  11.273741\n",
      "\n",
      "\n",
      "<class 'pandas.core.frame.DataFrame'>\n",
      "RangeIndex: 15907 entries, 0 to 15906\n",
      "Data columns (total 3 columns):\n",
      " #   Column        Non-Null Count  Dtype  \n",
      "---  ------        --------------  -----  \n",
      " 0   key           15907 non-null  int64  \n",
      " 1   Время замера  15907 non-null  object \n",
      " 2   Температура   13006 non-null  float64\n",
      "dtypes: float64(1), int64(1), object(1)\n",
      "memory usage: 372.9+ KB\n",
      "None\n",
      "        key         Время замера  Температура\n",
      "3763    748  2019-05-31 03:15:43       1578.0\n",
      "10767  2179  2019-07-25 23:46:51       1596.0\n",
      "2233    422  2019-05-19 00:52:18       1592.0\n",
      "\n",
      "\n",
      "<class 'pandas.core.frame.DataFrame'>\n",
      "RangeIndex: 3081 entries, 0 to 3080\n",
      "Data columns (total 10 columns):\n",
      " #   Column  Non-Null Count  Dtype  \n",
      "---  ------  --------------  -----  \n",
      " 0   key     3081 non-null   int64  \n",
      " 1   Wire 1  3055 non-null   float64\n",
      " 2   Wire 2  1079 non-null   float64\n",
      " 3   Wire 3  63 non-null     float64\n",
      " 4   Wire 4  14 non-null     float64\n",
      " 5   Wire 5  1 non-null      float64\n",
      " 6   Wire 6  73 non-null     float64\n",
      " 7   Wire 7  11 non-null     float64\n",
      " 8   Wire 8  19 non-null     float64\n",
      " 9   Wire 9  29 non-null     float64\n",
      "dtypes: float64(9), int64(1)\n",
      "memory usage: 240.8 KB\n",
      "None\n",
      "       key     Wire 1     Wire 2  Wire 3  Wire 4  Wire 5  Wire 6  Wire 7  \\\n",
      "2717  2864  35.031361  40.022316     NaN     NaN     NaN     NaN     NaN   \n",
      "2045  2143  53.071198        NaN     NaN     NaN     NaN     NaN     NaN   \n",
      "1125  1193  96.267601        NaN     NaN     NaN     NaN     NaN     NaN   \n",
      "\n",
      "      Wire 8  Wire 9  \n",
      "2717     NaN     NaN  \n",
      "2045     NaN     NaN  \n",
      "1125     NaN     NaN  \n",
      "\n",
      "\n",
      "<class 'pandas.core.frame.DataFrame'>\n",
      "RangeIndex: 3081 entries, 0 to 3080\n",
      "Data columns (total 10 columns):\n",
      " #   Column  Non-Null Count  Dtype \n",
      "---  ------  --------------  ----- \n",
      " 0   key     3081 non-null   int64 \n",
      " 1   Wire 1  3055 non-null   object\n",
      " 2   Wire 2  1079 non-null   object\n",
      " 3   Wire 3  63 non-null     object\n",
      " 4   Wire 4  14 non-null     object\n",
      " 5   Wire 5  1 non-null      object\n",
      " 6   Wire 6  73 non-null     object\n",
      " 7   Wire 7  11 non-null     object\n",
      " 8   Wire 8  19 non-null     object\n",
      " 9   Wire 9  29 non-null     object\n",
      "dtypes: int64(1), object(9)\n",
      "memory usage: 240.8+ KB\n",
      "None\n",
      "       key               Wire 1               Wire 2 Wire 3 Wire 4 Wire 5  \\\n",
      "2113  2221  2019-07-27 07:00:34                  NaN    NaN    NaN    NaN   \n",
      "2031  2129  2019-07-24 10:23:19                  NaN    NaN    NaN    NaN   \n",
      "2605  2739  2019-08-14 19:58:54  2019-08-14 19:59:42    NaN    NaN    NaN   \n",
      "\n",
      "     Wire 6 Wire 7 Wire 8 Wire 9  \n",
      "2113    NaN    NaN    NaN    NaN  \n",
      "2031    NaN    NaN    NaN    NaN  \n",
      "2605    NaN    NaN    NaN    NaN  \n",
      "\n",
      "\n"
     ]
    }
   ],
   "source": [
    "for i in [arc,bulk,bulk_time,gas,temp,wire,wire_time]:\n",
    "    print(i.info())\n",
    "    print(i.sample(3))\n",
    "    print()\n",
    "    print()"
   ]
  },
  {
   "cell_type": "markdown",
   "metadata": {},
   "source": [
    "### Cоздаем признаки для обучения <a id='1'></a>"
   ]
  },
  {
   "cell_type": "code",
   "execution_count": 5,
   "metadata": {},
   "outputs": [],
   "source": [
    "arc=arc.set_index('key')\n",
    "bulk=bulk.set_index('key')\n",
    "bulk_time=bulk_time.set_index('key')\n",
    "gas=gas.set_index('key')\n",
    "temp=temp.set_index('key')\n",
    "wire=wire.set_index('key')\n",
    "wire_time=wire_time.set_index('key')"
   ]
  },
  {
   "cell_type": "code",
   "execution_count": 6,
   "metadata": {},
   "outputs": [],
   "source": [
    "wire_time = bulk_time.merge(wire_time, on='key', how='outer')\n",
    "wire_time.columns = wire_time.columns +'_time'\n",
    "df = reduce(lambda x,y: pd.merge(x, y, on='key', how='outer'), \n",
    "                  [temp, arc, gas, bulk, wire, wire_time])"
   ]
  },
  {
   "cell_type": "code",
   "execution_count": 7,
   "metadata": {},
   "outputs": [],
   "source": [
    "df = df.rename(columns={'Время замера': 'temp_time_check',\n",
    "                                    'Температура': 'temp',\n",
    "                                    'Начало нагрева дугой': 'heat_start', \n",
    "                                    'Конец нагрева дугой': 'heat_end', \n",
    "                                    'Активная мощность': 'active_power', \n",
    "                                    'Реактивная мощность': 'reactive_power',\n",
    "                                    'Газ 1': 'gas_1'})"
   ]
  },
  {
   "cell_type": "code",
   "execution_count": 8,
   "metadata": {},
   "outputs": [],
   "source": [
    "df.columns = df.columns.str.replace(' ','_')\n",
    "df.columns = df.columns.str.lower()"
   ]
  },
  {
   "cell_type": "code",
   "execution_count": 9,
   "metadata": {},
   "outputs": [],
   "source": [
    "df = df.dropna(subset=['temp_time_check', 'heat_start', 'heat_end', 'active_power', 'reactive_power'])"
   ]
  },
  {
   "cell_type": "code",
   "execution_count": 10,
   "metadata": {},
   "outputs": [],
   "source": [
    "df = df.fillna(0)"
   ]
  },
  {
   "cell_type": "code",
   "execution_count": 11,
   "metadata": {},
   "outputs": [],
   "source": [
    "df[['heat_start', 'heat_end']] = df[['heat_start', 'heat_end']].astype('datetime64[s]')"
   ]
  },
  {
   "cell_type": "code",
   "execution_count": 12,
   "metadata": {},
   "outputs": [],
   "source": [
    "df['heat_time'] = df['heat_end'] -df['heat_start']"
   ]
  },
  {
   "cell_type": "code",
   "execution_count": 13,
   "metadata": {},
   "outputs": [],
   "source": [
    "df['heat_time'] = pd.to_timedelta(df['heat_time']).dt.total_seconds().astype(float)"
   ]
  },
  {
   "cell_type": "code",
   "execution_count": 14,
   "metadata": {},
   "outputs": [],
   "source": [
    "df['full_power'] = (df['active_power']**2 + df['reactive_power']**2)**(0.5)"
   ]
  },
  {
   "cell_type": "code",
   "execution_count": 15,
   "metadata": {},
   "outputs": [],
   "source": [
    "df1 = pd.pivot_table(df, index='key', values=['temp'], aggfunc=['first', 'last'])\n",
    "df1.columns = df1.columns.droplevel(1)\n",
    "df2 = pd.pivot_table(df, index='key', values=['active_power', 'heat_time', 'full_power', 'gas_1',\n",
    "                                                    'bulk_1', 'bulk_2', 'bulk_3', 'bulk_4', 'bulk_5',\n",
    "                                                    'bulk_6', 'bulk_7', 'bulk_8', 'bulk_9', 'bulk_10',\n",
    "                                                    'bulk_11', 'bulk_12', 'bulk_13', 'bulk_14', 'bulk_15',\n",
    "                                                    'wire_1', 'wire_2', 'wire_3', 'wire_4', 'wire_5',\n",
    "                                                    'wire_6', 'wire_7', 'wire_8', 'wire_9'], aggfunc='mean')"
   ]
  },
  {
   "cell_type": "code",
   "execution_count": 16,
   "metadata": {},
   "outputs": [],
   "source": [
    "data = pd.concat((df1, df2), axis=1)"
   ]
  },
  {
   "cell_type": "code",
   "execution_count": 17,
   "metadata": {},
   "outputs": [],
   "source": [
    "data = data.rename(columns={'first': 'first_temp', 'last': 'last_temp'})"
   ]
  },
  {
   "cell_type": "code",
   "execution_count": 18,
   "metadata": {},
   "outputs": [],
   "source": [
    "data = data.query('last_temp != 0')"
   ]
  },
  {
   "cell_type": "code",
   "execution_count": 19,
   "metadata": {},
   "outputs": [],
   "source": [
    "data['bulk_total']= data['bulk_1']+data['bulk_2']+data['bulk_3']+data['bulk_4']+data['bulk_5']+data['bulk_6']+data['bulk_7']+data['bulk_8']+data['bulk_9']+data['bulk_10']+data['bulk_11']+data['bulk_12']+data['bulk_13']+data['bulk_14']+data['bulk_15']\n",
    "data['wire_total']= data['wire_1']+data['wire_2']+data['wire_3']+data['wire_4']+data['wire_5']+data['wire_6']+data['wire_7']+data['wire_8']+data['wire_9']"
   ]
  },
  {
   "cell_type": "code",
   "execution_count": 20,
   "metadata": {},
   "outputs": [],
   "source": [
    "def anomalies(data,col):\n",
    "    Q1 = data[col].quantile(0.25)\n",
    "    Q3 = data[col].quantile(0.75)\n",
    "    IQR = Q3 - Q1\n",
    "    data = data[(data[col] > (Q1-3*IQR)) & (data[col] < (Q3+3*IQR))]\n",
    "    return data"
   ]
  },
  {
   "cell_type": "code",
   "execution_count": 21,
   "metadata": {},
   "outputs": [],
   "source": [
    "columns = ['first_temp', 'last_temp', 'active_power', 'heat_time', 'full_power', 'bulk_total', 'wire_total']"
   ]
  },
  {
   "cell_type": "code",
   "execution_count": 22,
   "metadata": {},
   "outputs": [],
   "source": [
    "\n",
    "for col in columns:\n",
    "    data = anomalies(data, col)"
   ]
  },
  {
   "cell_type": "markdown",
   "metadata": {},
   "source": [
    "### Посмотрим на данные <a id='2'></a>"
   ]
  },
  {
   "cell_type": "code",
   "execution_count": 23,
   "metadata": {},
   "outputs": [
    {
     "data": {
      "text/plain": [
       "Index(['first_temp', 'last_temp', 'active_power', 'bulk_1', 'bulk_10',\n",
       "       'bulk_11', 'bulk_12', 'bulk_13', 'bulk_14', 'bulk_15', 'bulk_2',\n",
       "       'bulk_3', 'bulk_4', 'bulk_5', 'bulk_6', 'bulk_7', 'bulk_8', 'bulk_9',\n",
       "       'full_power', 'gas_1', 'heat_time', 'wire_1', 'wire_2', 'wire_3',\n",
       "       'wire_4', 'wire_5', 'wire_6', 'wire_7', 'wire_8', 'wire_9',\n",
       "       'bulk_total', 'wire_total'],\n",
       "      dtype='object')"
      ]
     },
     "execution_count": 23,
     "metadata": {},
     "output_type": "execute_result"
    }
   ],
   "source": [
    "data.columns"
   ]
  },
  {
   "cell_type": "code",
   "execution_count": 24,
   "metadata": {},
   "outputs": [
    {
     "data": {
      "text/plain": [
       "<AxesSubplot:>"
      ]
     },
     "execution_count": 24,
     "metadata": {},
     "output_type": "execute_result"
    },
    {
     "data": {
      "image/png": "[encoded data removed]",
      "text/plain": [
       "<Figure size 432x288 with 1 Axes>"
      ]
     },
     "metadata": {
      "needs_background": "light"
     },
     "output_type": "display_data"
    }
   ],
   "source": [
    "\n",
    "data.boxplot(column='first_temp')"
   ]
  },
  {
   "cell_type": "code",
   "execution_count": 25,
   "metadata": {},
   "outputs": [
    {
     "data": {
      "text/plain": [
       "<AxesSubplot:>"
      ]
     },
     "execution_count": 25,
     "metadata": {},
     "output_type": "execute_result"
    },
    {
     "data": {
      "image/png": "[encoded data removed]",
      "text/plain": [
       "<Figure size 432x288 with 1 Axes>"
      ]
     },
     "metadata": {
      "needs_background": "light"
     },
     "output_type": "display_data"
    }
   ],
   "source": [
    "\n",
    "data.boxplot(column='last_temp')"
   ]
  },
  {
   "cell_type": "code",
   "execution_count": 26,
   "metadata": {},
   "outputs": [
    {
     "data": {
      "text/plain": [
       "<AxesSubplot:>"
      ]
     },
     "execution_count": 26,
     "metadata": {},
     "output_type": "execute_result"
    },
    {
     "data": {
      "image/png": "[encoded data removed]",
      "text/plain": [
       "<Figure size 432x288 with 1 Axes>"
      ]
     },
     "metadata": {
      "needs_background": "light"
     },
     "output_type": "display_data"
    }
   ],
   "source": [
    "\n",
    "data.boxplot(column='full_power')"
   ]
  },
  {
   "cell_type": "code",
   "execution_count": 27,
   "metadata": {},
   "outputs": [
    {
     "data": {
      "text/plain": [
       "<AxesSubplot:>"
      ]
     },
     "execution_count": 27,
     "metadata": {},
     "output_type": "execute_result"
    },
    {
     "data": {
      "image/png": "[encoded data removed]",
      "text/plain": [
       "<Figure size 432x288 with 1 Axes>"
      ]
     },
     "metadata": {
      "needs_background": "light"
     },
     "output_type": "display_data"
    }
   ],
   "source": [
    "data.boxplot(column='gas_1')"
   ]
  },
  {
   "cell_type": "code",
   "execution_count": 28,
   "metadata": {},
   "outputs": [
    {
     "data": {
      "text/plain": [
       "<AxesSubplot:>"
      ]
     },
     "execution_count": 28,
     "metadata": {},
     "output_type": "execute_result"
    },
    {
     "data": {
      "image/png": "[encoded data removed]",
      "text/plain": [
       "<Figure size 432x288 with 1 Axes>"
      ]
     },
     "metadata": {
      "needs_background": "light"
     },
     "output_type": "display_data"
    }
   ],
   "source": [
    "data.boxplot(column='bulk_total')"
   ]
  },
  {
   "cell_type": "code",
   "execution_count": 29,
   "metadata": {},
   "outputs": [
    {
     "data": {
      "text/plain": [
       "<AxesSubplot:>"
      ]
     },
     "execution_count": 29,
     "metadata": {},
     "output_type": "execute_result"
    },
    {
     "data": {
      "image/png": "[encoded data removed]",
      "text/plain": [
       "<Figure size 432x288 with 1 Axes>"
      ]
     },
     "metadata": {
      "needs_background": "light"
     },
     "output_type": "display_data"
    }
   ],
   "source": [
    "data.boxplot(column='wire_total')"
   ]
  },
  {
   "cell_type": "code",
   "execution_count": 30,
   "metadata": {},
   "outputs": [
    {
     "data": {
      "text/plain": [
       "<AxesSubplot:>"
      ]
     },
     "execution_count": 30,
     "metadata": {},
     "output_type": "execute_result"
    },
    {
     "data": {
      "image/png": "[encoded data removed]",
      "text/plain": [
       "<Figure size 432x288 with 2 Axes>"
      ]
     },
     "metadata": {
      "needs_background": "light"
     },
     "output_type": "display_data"
    }
   ],
   "source": [
    "check = ['first_temp', 'last_temp', 'active_power', 'heat_time', 'full_power', 'bulk_total', 'wire_total']\n",
    "sns.heatmap(data[columns].corr(), annot=True)\n"
   ]
  },
  {
   "cell_type": "code",
   "execution_count": 41,
   "metadata": {},
   "outputs": [],
   "source": [
    "#data = data.drop(columns=['heat_time'])"
   ]
  },
  {
   "cell_type": "markdown",
   "metadata": {},
   "source": [
    "### Обучим модели*  <a id='3'></a>\n",
    "*модели с плохим результатом будут удалены из финального варианта с проектом"
   ]
  },
  {
   "cell_type": "code",
   "execution_count": 42,
   "metadata": {},
   "outputs": [],
   "source": [
    "target = data['last_temp']\n",
    "features = data.drop(columns='last_temp')"
   ]
  },
  {
   "cell_type": "code",
   "execution_count": 43,
   "metadata": {},
   "outputs": [],
   "source": [
    "features_train, features_test, target_train, target_test = train_test_split(features, target, test_size=0.25, random_state=12)"
   ]
  },
  {
   "cell_type": "code",
   "execution_count": 44,
   "metadata": {},
   "outputs": [],
   "source": [
    "models = dict()"
   ]
  },
  {
   "cell_type": "code",
   "execution_count": 45,
   "metadata": {},
   "outputs": [],
   "source": [
    "def submit_model(title, model, X_train, y_train, X_test, y_test): \n",
    "\n",
    "    train_pred = model.predict(X_train)\n",
    "    test_pred = model.predict(X_test)\n",
    "        \n",
    "    train_score = mae(y_train, train_pred)\n",
    "    cv_score = abs(np.mean(cross_val_score(model, X_train, y_train, cv=3, scoring='neg_mean_absolute_error')))\n",
    "    test_score = mae(y_test, test_pred)\n",
    "    \n",
    "    def print_score(data_name, score):\n",
    "        print(f'МАЕ на {data_name}: {score}')\n",
    "                                                                             \n",
    "    print(f'Модель \"{title}\":')\n",
    "    print_score('обучающей', train_score)\n",
    "    print_score('кросс-валидация', cv_score)\n",
    "    print_score('тестовой', test_score)\n",
    "                           \n",
    "    models[title] = {'название': title, \n",
    "                     'на обучающей выборке': train_score,\n",
    "                     'на кросс-валидации': cv_score,\n",
    "                     'на тестовой': test_score}"
   ]
  },
  {
   "cell_type": "code",
   "execution_count": 46,
   "metadata": {},
   "outputs": [],
   "source": [
    "scaler = ColumnTransformer(transformers=[\n",
    "    ('std', StandardScaler(), ['first_temp', 'active_power']),\n",
    "    ('robust', RobustScaler(), ['bulk_1','bulk_2', 'bulk_3', 'bulk_4', 'bulk_5',\n",
    "                                'bulk_6', 'bulk_7', 'bulk_8', 'bulk_9','bulk_10',\n",
    "                                'bulk_11', 'bulk_12', 'bulk_13', 'bulk_14', 'bulk_15', \n",
    "                                'wire_1', 'wire_2', 'wire_3', 'wire_4', \n",
    "                                'wire_5', 'wire_6', 'wire_7', 'wire_8', 'wire_9'])\n",
    "], remainder='passthrough')"
   ]
  },
  {
   "cell_type": "code",
   "execution_count": 47,
   "metadata": {},
   "outputs": [],
   "source": [
    "p = Pipeline(steps=[('scale', scaler),  # Трансформеры\n",
    "                    ('forest', RandomForestRegressor(random_state=12))])"
   ]
  },
  {
   "cell_type": "code",
   "execution_count": 48,
   "metadata": {},
   "outputs": [
    {
     "data": {
      "text/plain": [
       "Pipeline(steps=[('scale',\n",
       "                 ColumnTransformer(remainder='passthrough',\n",
       "                                   transformers=[('std', StandardScaler(),\n",
       "                                                  ['first_temp',\n",
       "                                                   'active_power']),\n",
       "                                                 ('robust', RobustScaler(),\n",
       "                                                  ['bulk_1', 'bulk_2', 'bulk_3',\n",
       "                                                   'bulk_4', 'bulk_5', 'bulk_6',\n",
       "                                                   'bulk_7', 'bulk_8', 'bulk_9',\n",
       "                                                   'bulk_10', 'bulk_11',\n",
       "                                                   'bulk_12', 'bulk_13',\n",
       "                                                   'bulk_14', 'bulk_15',\n",
       "                                                   'wire_1', 'wire_2', 'wire_3',\n",
       "                                                   'wire_4', 'wire_5', 'wire_6',\n",
       "                                                   'wire_7', 'wire_8',\n",
       "                                                   'wire_9'])])),\n",
       "                ('forest', RandomForestRegressor(random_state=12))])"
      ]
     },
     "execution_count": 48,
     "metadata": {},
     "output_type": "execute_result"
    }
   ],
   "source": [
    "p.fit(features_train, target_train)"
   ]
  },
  {
   "cell_type": "code",
   "execution_count": 49,
   "metadata": {},
   "outputs": [],
   "source": [
    "\n",
    "rf_best = RandomForestRegressor(n_estimators=450, min_samples_split=2, max_depth=10, random_state=12).fit(features_train, target_train)"
   ]
  },
  {
   "cell_type": "code",
   "execution_count": 50,
   "metadata": {},
   "outputs": [
    {
     "name": "stdout",
     "output_type": "stream",
     "text": [
      "Модель \"Случайный лес\":\n",
      "МАЕ на обучающей: 3.7715810851232066\n",
      "МАЕ на кросс-валидация: 6.630525947728565\n",
      "МАЕ на тестовой: 6.6405225924782\n"
     ]
    }
   ],
   "source": [
    "submit_model('Случайный лес', rf_best, features_train, target_train, features_test, target_test)"
   ]
  },
  {
   "cell_type": "markdown",
   "metadata": {},
   "source": [
    "### Выводы <a id='4'></a>"
   ]
  },
  {
   "cell_type": "markdown",
   "metadata": {},
   "source": [
    "1)План работ потребовал корректривоски в процессе работы с данными, новый план указан в начале проекта\\\n",
    "2)Были небольшие трудности с оценкой коллинеарности данных, но коллеги подсказали как их посмотреть\\\n",
    "3)Выяснилось что больше чем прочее на нагревание влияет мощность и примеси участвующие в производстве. Они,вероятно,меняют химический состав металла, а значит и его свойства\\\n",
    "4) С помощью модели Случайный лес нам удалось достигнуть нужной оценки по метрике МАЕ-6.64, что значит что мы можем с успехом предсказывать время нагрева металла"
   ]
  },
  {
   "cell_type": "code",
   "execution_count": null,
   "metadata": {},
   "outputs": [],
   "source": []
  }
 ],
 "metadata": {
  "kernelspec": {
   "display_name": "Python 3",
   "language": "python",
   "name": "python3"
  },
  "language_info": {
   "codemirror_mode": {
    "name": "ipython",
    "version": 3
   },
   "file_extension": ".py",
   "mimetype": "text/x-python",
   "name": "python",
   "nbconvert_exporter": "python",
   "pygments_lexer": "ipython3",
   "version": "3.8.5"
  }
 },
 "nbformat": 4,
 "nbformat_minor": 4
}
